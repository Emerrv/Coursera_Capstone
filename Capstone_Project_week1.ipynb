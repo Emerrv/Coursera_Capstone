{
 "cells": [
  {
   "cell_type": "markdown",
   "metadata": {},
   "source": [
    "### Business case: Best places to stay in london"
   ]
  },
  {
   "cell_type": "markdown",
   "metadata": {},
   "source": [
    "¿What is the best neighborhood to stay for vacation in London?\n",
    "\n",
    "Everyone looking for a good place to stay in London for vacation, comming from another country or UK itself, needs to know if the place has the necessary caracteristics of a good place to stay before mooving in.\n",
    "\n",
    "A good place to stay must have/be:\n",
    "\n",
    "- Safe.\n",
    "- Recreational places nearby.\n",
    "- Shopping centers.\n",
    "- Restaurants.\n",
    "\n",
    "For this goal, the data to be used will be: geolocation of venues like; Shopping centers,Recreational places and Restaurants, along with data about crime in london."
   ]
  },
  {
   "cell_type": "code",
   "execution_count": null,
   "metadata": {},
   "outputs": [],
   "source": []
  }
 ],
 "metadata": {
  "kernelspec": {
   "display_name": "Python 3",
   "language": "python",
   "name": "python3"
  },
  "language_info": {
   "codemirror_mode": {
    "name": "ipython",
    "version": 3
   },
   "file_extension": ".py",
   "mimetype": "text/x-python",
   "name": "python",
   "nbconvert_exporter": "python",
   "pygments_lexer": "ipython3",
   "version": "3.7.6"
  }
 },
 "nbformat": 4,
 "nbformat_minor": 4
}
